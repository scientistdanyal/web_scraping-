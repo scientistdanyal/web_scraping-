{
 "cells": [
  {
   "cell_type": "code",
   "execution_count": null,
   "id": "84df0ec6",
   "metadata": {},
   "outputs": [],
   "source": [
    "import time\n",
    "import csv\n",
    "from selenium import webdriver\n",
    "from selenium.webdriver.common.by import By\n",
    "from selenium.webdriver.support.ui import WebDriverWait\n",
    "from selenium.webdriver.support import expected_conditions as EC\n",
    "from concurrent.futures import ThreadPoolExecutor\n",
    "\n",
    "# Configure Chrome WebDriver options\n",
    "chrome_options = webdriver.ChromeOptions()\n",
    "chrome_options.add_argument(\"--headless\")  # Run Chrome in headless mode (no GUI)\n",
    "\n",
    "url = \"https://grocerapp.pk/categories\"\n",
    "driver = webdriver.Chrome(options=chrome_options)\n",
    "\n",
    "driver.get(url)\n",
    "time.sleep(10)\n",
    "\n",
    "# Find the container that holds the category links\n",
    "category_buttons_container = WebDriverWait(driver, 20).until(EC.presence_of_element_located((By.XPATH, \"/html/body/div/div/main/div[1]/div[2]/div\")))\n",
    "category_buttons = category_buttons_container.find_elements(By.CSS_SELECTOR, \"a\")\n",
    "\n",
    "# Store the links in a list\n",
    "category_links = [button.get_attribute(\"href\") for button in category_buttons]\n",
    "\n",
    "max_threads = 8\n",
    "\n",
    "def scrape_category(category_link):\n",
    "    chrome_options = webdriver.ChromeOptions()\n",
    "    chrome_options.add_argument(\"--headless\")\n",
    "    driver = webdriver.Chrome(options=chrome_options)\n",
    "    products = []\n",
    "    \n",
    "    try:\n",
    "        driver.get(category_link)\n",
    "#         time.sleep(30)\n",
    "        \n",
    "        # Extract category name\n",
    "        my_list = category_link\n",
    "        my_list=my_list.split('/')\n",
    "    \n",
    "        category_name = my_list[-2]\n",
    "        print(category_name)\n",
    "    \n",
    "        product_elements = driver.find_elements(By.CSS_SELECTOR,\".MuiTypography-root.MuiTypography-body1\")\n",
    "        product_quantity_elements = driver.find_elements(By.CSS_SELECTOR,\".MuiTypography-root.MuiTypography-caption\")\n",
    "        product_price_elements = driver.find_elements(By.CSS_SELECTOR,\".MuiTypography-root.MuiTypography-subtitle2\")\n",
    "    \n",
    "        # Loop through product elements and extract data\n",
    "        for name_element, quantity_element, price_element in zip(product_elements, product_quantity_elements, product_price_elements):\n",
    "            product_name = name_element.text\n",
    "            product_quantity = quantity_element.text\n",
    "            product_price = price_element.text\n",
    "            \n",
    "            products.append({\n",
    "                \"category\": category_name,\n",
    "                \"name\": product_name,\n",
    "                \"quantity\": product_quantity,\n",
    "                \"price\": product_price,\n",
    "                \"date\": time.strftime(\"%Y-%m-%d\")\n",
    "            })\n",
    "        print(all_products)\n",
    "        \n",
    "    except Exception as e:\n",
    "        print(f\"An error occurred while processing category {category_link}: {e}\")\n",
    "    \n",
    "    finally:\n",
    "        driver.quit()\n",
    "    \n",
    "    return products\n",
    "\n",
    "# Initialize the thread pool\n",
    "all_products = []\n",
    "with ThreadPoolExecutor(max_threads) as executor:\n",
    "    for products in executor.map(scrape_category, category_links):\n",
    "        all_products.extend(products)\n",
    "\n",
    "# Save data to CSV file\n",
    "csv_file = \"Catagories_groccer_data.csv\"\n",
    "with open(csv_file, \"w\", newline=\"\", encoding=\"utf-8\") as file:\n",
    "    fieldnames = [\"category\", \"name\", \"quantity\", \"price\", \"date\"]\n",
    "    writer = csv.DictWriter(file, fieldnames=fieldnames)\n",
    "    writer.writeheader()\n",
    "    writer.writerows(all_products)\n"
   ]
  }
 ],
 "metadata": {
  "kernelspec": {
   "display_name": "Python 3 (ipykernel)",
   "language": "python",
   "name": "python3"
  },
  "language_info": {
   "codemirror_mode": {
    "name": "ipython",
    "version": 3
   },
   "file_extension": ".py",
   "mimetype": "text/x-python",
   "name": "python",
   "nbconvert_exporter": "python",
   "pygments_lexer": "ipython3",
   "version": "3.11.4"
  },
  "varInspector": {
   "cols": {
    "lenName": 16,
    "lenType": 16,
    "lenVar": 40
   },
   "kernels_config": {
    "python": {
     "delete_cmd_postfix": "",
     "delete_cmd_prefix": "del ",
     "library": "var_list.py",
     "varRefreshCmd": "print(var_dic_list())"
    },
    "r": {
     "delete_cmd_postfix": ") ",
     "delete_cmd_prefix": "rm(",
     "library": "var_list.r",
     "varRefreshCmd": "cat(var_dic_list()) "
    }
   },
   "types_to_exclude": [
    "module",
    "function",
    "builtin_function_or_method",
    "instance",
    "_Feature"
   ],
   "window_display": false
  }
 },
 "nbformat": 4,
 "nbformat_minor": 5
}
